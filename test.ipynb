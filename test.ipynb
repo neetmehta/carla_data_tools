{
 "cells": [
  {
   "cell_type": "code",
   "execution_count": 1,
   "metadata": {},
   "outputs": [
    {
     "name": "stdout",
     "output_type": "stream",
     "text": [
      "Jupyter environment detected. Enabling Open3D WebVisualizer.\n",
      "[Open3D INFO] WebRTC GUI backend enabled.\n",
      "[Open3D INFO] WebRTCWindowSystem: HTTP handshake server disabled.\n",
      "pygame 2.1.2 (SDL 2.0.18, Python 3.7.9)\n",
      "Hello from the pygame community. https://www.pygame.org/contribute.html\n"
     ]
    }
   ],
   "source": [
    "import yaml\n",
    "import cv2\n",
    "import numpy as np\n",
    "import glob\n",
    "import os\n",
    "import sys\n",
    "import matplotlib.pyplot as plt\n",
    "import open3d as o3d\n",
    "import time\n",
    "import math\n",
    "sys.path.append(\"src/\")\n",
    "from src.world import CarlaWorld\n",
    "from src.ego_vehicle import EgoVehicle\n",
    "\n",
    "try:\n",
    "    sys.path.append(glob.glob('../carla/dist/carla-*%d.%d-%s.egg' % (\n",
    "        sys.version_info.major,\n",
    "        sys.version_info.minor,\n",
    "        'win-amd64' if os.name == 'nt' else 'linux-x86_64'))[0])\n",
    "except IndexError:\n",
    "    pass\n",
    "import carla\n",
    "\n",
    "try:\n",
    "    import pygame\n",
    "    from pygame.locals import K_ESCAPE\n",
    "    from pygame.locals import K_q\n",
    "except ImportError:\n",
    "    raise RuntimeError('cannot import pygame, make sure pygame package is installed')\n",
    "\n",
    "from src.utils import capture_data\n",
    "from src.pygame_display import DisplayManager\n",
    "\n",
    "\n",
    "with open('cfg\\\\vehicle_cfg.yaml', 'r') as f:\n",
    "    vehicle_cfg = yaml.safe_load(f) \n",
    "    \n",
    "with open('cfg\\\\config.yaml', 'r') as f:\n",
    "    cfg = yaml.safe_load(f) \n",
    "    \n",
    "carla_world = CarlaWorld(cfg)\n",
    "\n",
    "bp_lib = carla_world.world.get_blueprint_library()\n",
    "ego_vehicle = EgoVehicle(bp_lib, vehicle_cfg)\n",
    "ego_vehicle.spwan_ego_vehicle(carla_world.world)\n",
    "display_man = None\n",
    "if cfg['sensor_preview']:\n",
    "    grid_size = [math.ceil(ego_vehicle.num_cameras/3), 3]\n",
    "    display_man = DisplayManager(grid_size, window_size=[1280, 720])\n",
    "\n",
    "ego_vehicle.sensor_setup(carla_world.world, display_man, enable_lidar_vis=cfg['sensor_preview'])\n",
    "static_bboxes = carla_world.world.get_level_bbs(carla.CityObjectLabel.Car)\n",
    "carla_world.spawn_actors()\n",
    "ego_vehicle.ego_vehicle.set_autopilot(True)\n",
    "\n",
    "carla_world.set_synchronous()\n",
    "\n",
    "out_dir = cfg['out_dir']\n",
    "capture_frequency = cfg['capture_frequency']\n",
    "simulation_frequency = cfg['fps']\n",
    "delta_tick = int(simulation_frequency/capture_frequency)\n",
    "assert delta_tick > 0, \"please reduce capture_frequency\"\n",
    "frame_no = 0\n",
    "call_exit = False\n",
    "rgb, depth, sem_seg, point_cloud = None, None, None, None\n",
    "# Main loop\n",
    "while True:\n",
    "    continue_flag = False\n",
    "    frame_id = carla_world.tick()    \n",
    "    vehicles = carla_world.world.get_actors().filter('vehicle.*')\n",
    "\n",
    "    # Data Capture\n",
    "    velocity = ego_vehicle.ego_vehicle.get_velocity()\n",
    "        \n",
    "    for sensor in ego_vehicle.sensors:\n",
    "        \n",
    "        if sensor.sensor_type == 'RGBCamera':\n",
    "            rgb, depth, sem_seg, bb_2d = sensor.retrive_data(frame_id, 2.0)\n",
    "            if frame_no % delta_tick == 0 and cfg['capture_data'] and velocity.length() > 0.001:\n",
    "                capture_data(frame_no=frame_no, out_dir=cfg['out_dir'], sensor_name=sensor.sensor_name, rgb=rgb, depth=depth, semantic_mask=sem_seg, bb_2d=bb_2d)\n",
    "                # print(f\"Saved Camera Frame no {frame_no} for {sensor.sensor_name}\")\n",
    "\n",
    "        if sensor.sensor_type == 'LiDAR':\n",
    "            point_cloud, bbs = sensor.retrive_data(frame_id, 2.0)        \n",
    "            if frame_no % delta_tick == 0 and cfg['capture_data'] and velocity.length() > 0.001:\n",
    "                if len(bbs) == 0:\n",
    "                    continue_flag = True\n",
    "                    break\n",
    "                capture_data(frame_no=frame_no, out_dir=cfg['out_dir'], sensor_name=sensor.sensor_name, lidar_pc=point_cloud, bbs=bbs)\n",
    "                # print(f\"Saved Lidar Frame no {frame_no} for {sensor.sensor_name}\")\n",
    "            \n",
    "    if continue_flag:\n",
    "        continue\n",
    "\n",
    "    frame_no += 1\n",
    "    \n",
    "    # Visualization\n",
    "    if cfg['sensor_preview']:         \n",
    "        pygame.display.flip()\n",
    "\n",
    "        for event in pygame.event.get():\n",
    "            if event.type == pygame.QUIT:\n",
    "                call_exit = True\n",
    "            elif event.type == pygame.KEYDOWN:\n",
    "                if event.key == K_ESCAPE or event.key == K_q:\n",
    "                    call_exit = True\n",
    "                    break\n",
    "\n",
    "        if call_exit:\n",
    "            pygame.display.quit()\n",
    "            for sensor in ego_vehicle.sensors:\n",
    "                if sensor.sensor_type == 'LiDAR' and sensor.vis:\n",
    "                    sensor.vis.destroy_window()\n",
    "                    \n",
    "            break\n",
    "\n",
    "\n",
    "carla_world.restore()\n",
    "carla_world.destroy_actors()\n"
   ]
  },
  {
   "cell_type": "code",
   "execution_count": null,
   "metadata": {},
   "outputs": [],
   "source": [
    "carla_world.restore()\n",
    "carla_world.destroy_actors()\n",
    "pygame.display.quit()\n",
    "for sensor in ego_vehicle.sensors:\n",
    "    if sensor.sensor_type == 'LiDAR' and sensor.vis:\n",
    "        sensor.vis.destroy_window()"
   ]
  },
  {
   "cell_type": "code",
   "execution_count": null,
   "metadata": {},
   "outputs": [],
   "source": []
  },
  {
   "cell_type": "code",
   "execution_count": null,
   "metadata": {},
   "outputs": [],
   "source": [
    "from scipy.spatial.transform import Rotation\n",
    "vis = o3d.visualization.Visualizer()\n",
    "bb_points = np.array(bb1.T)\n",
    "\n",
    "obb = o3d.geometry.OrientedBoundingBox.create_from_points(o3d.utility.Vector3dVector(bb_points))\n",
    "# Add the point cloud and OBB to the visualizer\n",
    "# vis.create_window()\n",
    "# vis.add_geometry(point_cloud)\n",
    "# vis.add_geometry(obb)\n",
    "# render_option = vis.get_render_option()\n",
    "# render_option.background_color = np.asarray([0.0, 0.0, 0.0])\n",
    "# # vis.add_geometry(obb)\n",
    "\n",
    "# # Run the visualizer\n",
    "# vis.run()\n",
    "\n",
    "# # Close the visualizer\n",
    "# vis.destroy_window()\n",
    "rot_mat = obb.R\n",
    "r = Rotation.from_matrix(rot_mat.copy())\n",
    "euler_angles = r.as_euler('xyz', degrees=True)\n",
    "roll, pitch, yaw = euler_angles\n",
    "yaw\n"
   ]
  },
  {
   "cell_type": "code",
   "execution_count": null,
   "metadata": {},
   "outputs": [],
   "source": [
    "obb.center"
   ]
  },
  {
   "cell_type": "code",
   "execution_count": null,
   "metadata": {},
   "outputs": [],
   "source": [
    "import numpy as np\n",
    "r = 1\n",
    "degs = [0, 60, 120, 180, 240, 300]\n",
    "\n",
    "for deg in degs:\n",
    "    x = np.cos(np.deg2rad(deg))\n",
    "    y = np.sin(np.deg2rad(deg))\n",
    "    print(x,y)"
   ]
  },
  {
   "cell_type": "code",
   "execution_count": null,
   "metadata": {},
   "outputs": [],
   "source": [
    "a = 4\n",
    "\n",
    "if a is not None:\n",
    "    print(a)"
   ]
  },
  {
   "cell_type": "code",
   "execution_count": null,
   "metadata": {},
   "outputs": [],
   "source": [
    "\n"
   ]
  },
  {
   "cell_type": "code",
   "execution_count": null,
   "metadata": {},
   "outputs": [],
   "source": [
    "bb"
   ]
  },
  {
   "cell_type": "code",
   "execution_count": null,
   "metadata": {},
   "outputs": [],
   "source": []
  }
 ],
 "metadata": {
  "kernelspec": {
   "display_name": "Python 3",
   "language": "python",
   "name": "python3"
  },
  "language_info": {
   "codemirror_mode": {
    "name": "ipython",
    "version": 3
   },
   "file_extension": ".py",
   "mimetype": "text/x-python",
   "name": "python",
   "nbconvert_exporter": "python",
   "pygments_lexer": "ipython3",
   "version": "3.7.9"
  },
  "orig_nbformat": 4
 },
 "nbformat": 4,
 "nbformat_minor": 2
}
